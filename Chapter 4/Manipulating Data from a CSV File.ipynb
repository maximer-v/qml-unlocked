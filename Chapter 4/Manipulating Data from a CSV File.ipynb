{
 "cells": [
  {
   "cell_type": "code",
   "execution_count": 5,
   "metadata": {},
   "outputs": [
    {
     "name": "stdout",
     "output_type": "stream",
     "text": [
      "First Few Rows of the Dataset:\n",
      "  Customer_ID  Age  Income  Defaulted\n",
      "0  CST_000001   49  131993          0\n",
      "1  CST_000002   43  115246          0\n",
      "2  CST_000003   47  109268          1\n",
      "3  CST_000004   60  133530          0\n",
      "4  CST_000005   41  102622          1\n",
      "\n",
      "Summary Statistics:\n",
      "               Age         Income   Defaulted\n",
      "count  1000.000000    1000.000000  1000.00000\n",
      "mean     43.646000  105190.194000     0.50000\n",
      "std       9.799015   22229.151176     0.50025\n",
      "min      15.000000   39841.000000     0.00000\n",
      "25%      37.000000   90960.750000     0.00000\n",
      "50%      44.000000  103727.000000     0.50000\n",
      "75%      50.000000  119564.500000     1.00000\n",
      "max      75.000000  187495.000000     1.00000\n"
     ]
    }
   ],
   "source": [
    "import pandas as pd\n",
    "\n",
    "# Load the dataset from a CSV file\n",
    "df = pd.read_csv('customer_data.csv')\n",
    "\n",
    "# Display the first few rows of the dataset\n",
    "print(\"First Few Rows of the Dataset:\")\n",
    "print(df.head())\n",
    "\n",
    "# Summarize the dataset\n",
    "print(\"\\nSummary Statistics:\")\n",
    "print(df.describe())"
   ]
  }
 ],
 "metadata": {
  "kernelspec": {
   "display_name": "ml-classic",
   "language": "python",
   "name": "python3"
  },
  "language_info": {
   "codemirror_mode": {
    "name": "ipython",
    "version": 3
   },
   "file_extension": ".py",
   "mimetype": "text/x-python",
   "name": "python",
   "nbconvert_exporter": "python",
   "pygments_lexer": "ipython3",
   "version": "3.12.3"
  }
 },
 "nbformat": 4,
 "nbformat_minor": 2
}
