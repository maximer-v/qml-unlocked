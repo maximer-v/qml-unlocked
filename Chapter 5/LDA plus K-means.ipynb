{
 "cells": [
  {
   "cell_type": "code",
   "execution_count": 1,
   "metadata": {},
   "outputs": [],
   "source": [
    "import numpy as np\n",
    "import pandas as pd\n",
    "import matplotlib.pyplot as plt\n",
    "from sklearn.model_selection import train_test_split\n",
    "from sklearn.preprocessing import MinMaxScaler\n",
    "from sklearn.discriminant_analysis import LinearDiscriminantAnalysis as LDA\n",
    "from sklearn.cluster import KMeans"
   ]
  },
  {
   "cell_type": "code",
   "execution_count": 3,
   "metadata": {},
   "outputs": [],
   "source": [
    "# Load dataset\n",
    "df = pd.read_csv('yourdataset.csv')  # Replace with your dataset file path"
   ]
  },
  {
   "cell_type": "code",
   "execution_count": 4,
   "metadata": {},
   "outputs": [],
   "source": [
    "# Prepare the data\n",
    "X = df.drop(['target'], axis=\"columns\")  # Replace 'target' with the name of the target column\n",
    "y = df['target']\n",
    "X_train, X_test, y_train, y_test = train_test_split(X, y, test_size=0.20, random_state=42)"
   ]
  },
  {
   "cell_type": "code",
   "execution_count": 5,
   "metadata": {},
   "outputs": [],
   "source": [
    "# Calculate feature correlations with target\n",
    "correlations = X_train.corrwith(y_train)"
   ]
  },
  {
   "cell_type": "code",
   "execution_count": 6,
   "metadata": {},
   "outputs": [],
   "source": [
    "# Clustering features using K-means\n",
    "num_dimensions = 2  # Number of dimensions or clusters\n",
    "correlations_reshaped = np.reshape(correlations.values, (-1, 1))\n",
    "kmeans = KMeans(n_clusters=num_dimensions, random_state=0).fit(correlations_reshaped)\n",
    "clusters = kmeans.labels_\n",
    "\n",
    "# Group features into clusters\n",
    "groups = [np.where(clusters == i)[0] for i in range(num_dimensions)]"
   ]
  },
  {
   "cell_type": "code",
   "execution_count": 7,
   "metadata": {},
   "outputs": [],
   "source": [
    "# Apply LDA to each feature cluster\n",
    "features_lda = np.empty((X_train.shape[0], num_dimensions))\n",
    "features_lda_test = np.empty((X_test.shape[0], num_dimensions))\n",
    "\n",
    "for i, group in enumerate(groups):\n",
    "    lda = LDA(n_components=1)\n",
    "    features_lda[:, i] = lda.fit_transform(X_train.iloc[:, group], y_train).ravel()\n",
    "    features_lda_test[:, i] = lda.transform(X_test.iloc[:, group]).ravel()"
   ]
  },
  {
   "cell_type": "code",
   "execution_count": 8,
   "metadata": {},
   "outputs": [],
   "source": [
    "# Normalize the new features for QML\n",
    "minmax_scaler = MinMaxScaler().fit(features_lda)\n",
    "X_train_qml = minmax_scaler.transform(features_lda)\n",
    "X_test_qml = minmax_scaler.transform(features_lda_test)"
   ]
  }
 ],
 "metadata": {
  "kernelspec": {
   "display_name": "ml-classic",
   "language": "python",
   "name": "python3"
  },
  "language_info": {
   "codemirror_mode": {
    "name": "ipython",
    "version": 3
   },
   "file_extension": ".py",
   "mimetype": "text/x-python",
   "name": "python",
   "nbconvert_exporter": "python",
   "pygments_lexer": "ipython3",
   "version": "3.12.3"
  }
 },
 "nbformat": 4,
 "nbformat_minor": 2
}
