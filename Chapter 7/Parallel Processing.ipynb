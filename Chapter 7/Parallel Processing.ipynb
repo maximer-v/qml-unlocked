{
 "cells": [
  {
   "cell_type": "code",
   "execution_count": 8,
   "metadata": {},
   "outputs": [],
   "source": [
    "import numpy as np\n",
    "from sklearn.datasets import make_classification\n",
    "from sklearn.model_selection import train_test_split\n",
    "\n",
    "# Create a synthetic dataset\n",
    "X, y = make_classification(n_samples=200, n_features=4, n_informative=2, n_redundant=0, n_classes=2, random_state=42)\n",
    "\n",
    "# Split into training and testing datasets\n",
    "X_train, X_test, y_train, y_test = train_test_split(X, y, test_size=0.2, random_state=42)"
   ]
  },
  {
   "cell_type": "code",
   "execution_count": 9,
   "metadata": {},
   "outputs": [],
   "source": [
    "import pennylane as qml\n",
    "\n",
    "# Setup the quantum device and number of qubits\n",
    "n_qubits = X_train.shape[1]\n",
    "dev = qml.device(\"default.qubit\", wires=n_qubits, shots=None)\n",
    "\n",
    "# Define the quantum feature map using angle encoding\n",
    "def feature_map(x):\n",
    "    for i, val in enumerate(x):\n",
    "        qml.RX(val, wires=i)\n",
    "\n",
    "# Define the quantum kernel circuit\n",
    "@qml.qnode(dev)\n",
    "def kernel_circuit(x1, x2):\n",
    "    feature_map(x1)\n",
    "    qml.adjoint(feature_map)(x2)\n",
    "    return qml.expval(qml.Projector([0] * n_qubits, wires=range(n_qubits)))"
   ]
  },
  {
   "cell_type": "code",
   "execution_count": 10,
   "metadata": {},
   "outputs": [],
   "source": [
    "def compute_kernel_row(i, X1, X2):\n",
    "    return [kernel_circuit(X1[i], X2[j]) for j in range(X2.shape[0])]\n",
    "\n",
    "def quantum_kernel_serial(X1, X2):\n",
    "    m1 = X1.shape[0]\n",
    "    K = np.zeros((m1, X2.shape[0]))\n",
    "    for i in range(m1):\n",
    "        K[i, :] = compute_kernel_row(i, X1, X2)\n",
    "    return K"
   ]
  },
  {
   "cell_type": "code",
   "execution_count": 11,
   "metadata": {},
   "outputs": [],
   "source": [
    "from joblib import Parallel, delayed\n",
    "\n",
    "def quantum_kernel_parallel(X1, X2, n_jobs=-1):\n",
    "    m1 = X1.shape[0]\n",
    "    rows = Parallel(n_jobs=n_jobs, verbose=10)(\n",
    "        delayed(compute_kernel_row)(i, X1, X2) for i in range(m1)\n",
    "    )\n",
    "    return np.array(rows)"
   ]
  },
  {
   "cell_type": "code",
   "execution_count": 12,
   "metadata": {},
   "outputs": [
    {
     "name": "stderr",
     "output_type": "stream",
     "text": [
      "[Parallel(n_jobs=-1)]: Using backend LokyBackend with 24 concurrent workers.\n",
      "[Parallel(n_jobs=-1)]: Done   2 tasks      | elapsed:    5.3s\n",
      "[Parallel(n_jobs=-1)]: Done  13 tasks      | elapsed:    5.5s\n",
      "[Parallel(n_jobs=-1)]: Done  24 tasks      | elapsed:    5.7s\n",
      "[Parallel(n_jobs=-1)]: Done  37 tasks      | elapsed:    6.0s\n",
      "[Parallel(n_jobs=-1)]: Done  50 tasks      | elapsed:    6.2s\n",
      "[Parallel(n_jobs=-1)]: Done  65 tasks      | elapsed:    6.5s\n",
      "[Parallel(n_jobs=-1)]: Done  80 tasks      | elapsed:    6.8s\n",
      "[Parallel(n_jobs=-1)]: Done  97 tasks      | elapsed:    7.0s\n",
      "[Parallel(n_jobs=-1)]: Done 130 out of 160 | elapsed:    7.7s remaining:    1.7s\n",
      "[Parallel(n_jobs=-1)]: Done 147 out of 160 | elapsed:    7.9s remaining:    0.6s\n",
      "[Parallel(n_jobs=-1)]: Done 160 out of 160 | elapsed:    8.0s finished\n",
      "[Parallel(n_jobs=-1)]: Using backend LokyBackend with 24 concurrent workers.\n",
      "[Parallel(n_jobs=-1)]: Done   1 tasks      | elapsed:    0.2s\n",
      "[Parallel(n_jobs=-1)]: Done   3 out of  40 | elapsed:    0.2s remaining:    4.1s\n",
      "[Parallel(n_jobs=-1)]: Done   8 out of  40 | elapsed:    0.3s remaining:    1.4s\n",
      "[Parallel(n_jobs=-1)]: Done  13 out of  40 | elapsed:    0.3s remaining:    0.7s\n",
      "[Parallel(n_jobs=-1)]: Done  18 out of  40 | elapsed:    0.4s remaining:    0.5s\n",
      "[Parallel(n_jobs=-1)]: Done  23 out of  40 | elapsed:    0.4s remaining:    0.3s\n",
      "[Parallel(n_jobs=-1)]: Done  28 out of  40 | elapsed:    0.6s remaining:    0.2s\n",
      "[Parallel(n_jobs=-1)]: Done  33 out of  40 | elapsed:    0.6s remaining:    0.0s\n",
      "[Parallel(n_jobs=-1)]: Done  38 out of  40 | elapsed:    0.6s remaining:    0.0s\n"
     ]
    },
    {
     "name": "stdout",
     "output_type": "stream",
     "text": [
      "=== Comparison of Precomputation Times ===\n",
      "No parallelization: 38.3481 seconds\n",
      "Parallelization   : 8.8711 seconds\n",
      "\n"
     ]
    },
    {
     "name": "stderr",
     "output_type": "stream",
     "text": [
      "[Parallel(n_jobs=-1)]: Done  40 out of  40 | elapsed:    0.7s finished\n"
     ]
    }
   ],
   "source": [
    "import time\n",
    "\n",
    "# Compute kernel matrix serially\n",
    "start_time = time.time()\n",
    "K_train_serial = quantum_kernel_serial(X_train, X_train)\n",
    "K_test_serial = quantum_kernel_serial(X_test, X_train)\n",
    "no_parallel_time = time.time() - start_time\n",
    "\n",
    "# Compute kernel matrix in parallel\n",
    "start_time = time.time()\n",
    "K_train_parallel = quantum_kernel_parallel(X_train, X_train, n_jobs=-1)\n",
    "K_test_parallel = quantum_kernel_parallel(X_test, X_train, n_jobs=-1)\n",
    "parallel_time = time.time() - start_time\n",
    "\n",
    "# Print results\n",
    "print(\"=== Comparison of Precomputation Times ===\")\n",
    "print(f\"No parallelization: {no_parallel_time:.4f} seconds\")\n",
    "print(f\"Parallelization   : {parallel_time:.4f} seconds\\n\")"
   ]
  },
  {
   "cell_type": "code",
   "execution_count": 13,
   "metadata": {},
   "outputs": [
    {
     "name": "stdout",
     "output_type": "stream",
     "text": [
      "SVM Accuracy: 0.8250\n"
     ]
    }
   ],
   "source": [
    "from sklearn.svm import SVC\n",
    "\n",
    "# Validate kernel matrices\n",
    "assert np.allclose(K_train_serial, K_train_parallel, atol=1e-6)\n",
    "assert np.allclose(K_test_serial, K_test_parallel, atol=1e-6)\n",
    "\n",
    "# Train SVM using the parallel-computed kernel\n",
    "qsvc = SVC(kernel='precomputed')\n",
    "qsvc.fit(K_train_parallel, y_train)\n",
    "accuracy = qsvc.score(K_test_parallel, y_test)\n",
    "\n",
    "# Print accuracy\n",
    "print(f\"SVM Accuracy: {accuracy:.4f}\")"
   ]
  }
 ],
 "metadata": {
  "kernelspec": {
   "display_name": "research",
   "language": "python",
   "name": "python3"
  },
  "language_info": {
   "codemirror_mode": {
    "name": "ipython",
    "version": 3
   },
   "file_extension": ".py",
   "mimetype": "text/x-python",
   "name": "python",
   "nbconvert_exporter": "python",
   "pygments_lexer": "ipython3",
   "version": "3.12.3"
  }
 },
 "nbformat": 4,
 "nbformat_minor": 2
}
